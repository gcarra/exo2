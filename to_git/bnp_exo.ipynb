{
 "cells": [
  {
   "cell_type": "markdown",
   "metadata": {},
   "source": [
    "# Predire si la reclamation appartien à la categorie 0 ou 1\n",
    "categorie 0 = le process peut etre acceleré\n",
    "categorie 1 = le process a besoin d'info additionelle pour etre accelleré"
   ]
  },
  {
   "cell_type": "code",
   "execution_count": 115,
   "metadata": {},
   "outputs": [
    {
     "name": "stdout",
     "output_type": "stream",
     "text": [
      "(114321, 133)\n",
      "number of numerical features = 112\n",
      "number of categorical features = 19\n",
      "target\n",
      "0    27300\n",
      "1    87021\n",
      "dtype: int64\n",
      "percentage of null values:\n",
      "0.3403748424734932\n",
      "target\n",
      "0    0.326751\n",
      "1    0.344649\n",
      "dtype: float64\n",
      "0.908396946565\n",
      "0.844682954138\n",
      "(114321, 133)\n",
      "(66489, 133)\n"
     ]
    },
    {
     "data": {
      "image/png": "[encoded data removed]",
      "text/plain": [
       "<matplotlib.figure.Figure at 0x7f8ec6f1e358>"
      ]
     },
     "metadata": {},
     "output_type": "display_data"
    },
    {
     "data": {
      "image/png": "[encoded data removed]",
      "text/plain": [
       "<matplotlib.figure.Figure at 0x7f8e7a46fb70>"
      ]
     },
     "metadata": {},
     "output_type": "display_data"
    }
   ],
   "source": [
    "############\n",
    "# Packages #\n",
    "############\n",
    "\n",
    "import pandas as pd\n",
    "import numpy as np\n",
    "\n",
    "from matplotlib import pyplot as plt\n",
    "import seaborn as sns\n",
    "from sklearn.preprocessing import StandardScaler, LabelEncoder\n",
    "from sklearn.model_selection import train_test_split, GridSearchCV, StratifiedKFold\n",
    "from sklearn.ensemble import ExtraTreesClassifier, RandomForestClassifier\n",
    "from sklearn.metrics import accuracy_score, confusion_matrix\n",
    "%matplotlib inline\n",
    "##################\n",
    "# Data analysis #\n",
    "##################\n",
    "\n",
    "# import data\n",
    "\n",
    "data_o = pd.read_csv('train.csv')\n",
    "\n",
    "# print dataset informations\n",
    "\n",
    "print(data_o.shape)\n",
    "data_o_num = data_o.select_dtypes(exclude = ['object'])\n",
    "data_o_cat = data_o.select_dtypes(include = ['object'])\n",
    "print('number of numerical features = %d' % (data_o_num.shape[1] - 2))\n",
    "print('number of categorical features = %d' % data_o_cat.shape[1])\n",
    "\n",
    "# are the data balances ? \n",
    "fig, ax = plt.subplots()\n",
    "ax = sns.countplot(x = 'target', data =  data_o)\n",
    "groups = data_o.groupby('target')\n",
    "print(groups.size())\n",
    "\n",
    "# exploring not a number values: \n",
    "print('percentage of null values:')\n",
    "print(data_o.isnull().sum().sum() / (data_o.shape[0]*(data_o.shape[1] - 2) ) )\n",
    "print(groups.apply(lambda x: x.isnull().sum().sum() / (x.shape[0]*(x.shape[1] - 2))))\n",
    "\n",
    "null_per_columns = data_o.drop(['ID','target'], axis = 1).isnull().sum() / data_o.shape[0] * 100\n",
    "null_per_rows = data_o.drop(['ID','target'], axis = 1).isnull().sum(axis = 1) / (data_o.shape[1] -2) * 100\n",
    "print( data_o.drop(['ID','target'], axis = 1).isnull().any(axis = 0).sum() / (data_o.shape[1] -2)  )\n",
    "print( data_o.drop(['ID','target'], axis = 1).isnull().any(axis = 1).sum() /(data_o.shape[0]) )\n",
    "fig1, ax1 = plt.subplots(1, 2, figsize = (14, 14))\n",
    "ax1[0] = sns.distplot(null_per_columns, kde = False, ax = ax1[0])\n",
    "ax1[1] = sns.distplot(null_per_rows, kde = False, ax = ax1[1])\n",
    "\n",
    "# check for duplicate rows \n",
    "\n",
    "data_o = data_o.drop_duplicates()\n",
    "print(data_o.shape)\n",
    "\n",
    "data_o = data_o.dropna(thresh=50, axis=0)\n",
    "print(data_o.shape)"
   ]
  },
  {
   "cell_type": "markdown",
   "metadata": {},
   "source": [
    "# Data analysis remarks\n",
    "\n",
    "-> excluding ID we have 131 attributs: 112 numerical and 19 categorical \n",
    "-> data are not balanced, can a sub-sampling be useful?"
   ]
  },
  {
   "cell_type": "code",
   "execution_count": 104,
   "metadata": {},
   "outputs": [
    {
     "name": "stdout",
     "output_type": "stream",
     "text": [
      "(64489, 60)\n",
      "{'max_depth': 30, 'n_estimators': 200}\n",
      "0.755690628295\n",
      "0.999979324319\n"
     ]
    },
    {
     "data": {
      "image/png": "[encoded data removed]",
      "text/plain": [
       "<matplotlib.figure.Figure at 0x7f8ec0d532e8>"
      ]
     },
     "metadata": {},
     "output_type": "display_data"
    }
   ],
   "source": [
    "###################\n",
    "# imputing values #\n",
    "###################\n",
    "\n",
    "data_o[data_o_num.columns] = data_o.select_dtypes(exclude = ['object']).fillna(data_o_num.mean())\n",
    "data_o[data_o_cat.columns] = data_o.select_dtypes(include = ['object']).fillna(data_o_cat.mode().iloc[0])\n",
    "\n",
    "data_X = data_o.drop(['target', 'ID'], axis = 1)\n",
    "le = LabelEncoder()\n",
    "for col_i in data_o_cat.columns:\n",
    "    le.fit(data_X[col_i].values)\n",
    "    data_X[col_i] = le.transform(data_X[col_i])\n",
    "\n",
    "data_y = data_o['target']\n",
    "\n",
    "from sklearn.decomposition import PCA\n",
    "\n",
    "pca = PCA(n_components=60)\n",
    "pca.fit(data_X)\n",
    "\n",
    "data_X = pca.transform(data_X)\n",
    "\n",
    "print(data_X.shape)\n",
    "##############################\n",
    "# create test and train sets #\n",
    "##############################\n",
    "train_X, test_X, train_y, test_y = train_test_split(data_X, data_y)\n",
    "\n",
    "\n",
    "\n",
    "\n",
    "#########\n",
    "# model #\n",
    "#########\n",
    "et_model = ExtraTreesClassifier( n_jobs = -1)\n",
    "grid_params = {\n",
    "        'n_estimators' : [200],\n",
    "        'max_depth' : [10, 20, 30]\n",
    "    \n",
    "}\n",
    "\n",
    "et_CV = GridSearchCV(et_model, param_grid = grid_params, cv = StratifiedKFold(n_splits = 10, shuffle= True))\n",
    "\n",
    "et_CV.fit(train_X,train_y)\n",
    "\n",
    "predict_y = et_CV.predict(test_X)\n",
    "predict_yt = et_CV.predict(train_X)\n",
    "print(et_CV.best_params_)\n",
    "print(accuracy_score(test_y, predict_y))\n",
    "fig3, ax3 = plt.subplots()\n",
    "conf_matrix = confusion_matrix(test_y, predict_y)\n",
    "ax3 = sns.heatmap(conf_matrix, annot = True)\n",
    "plt.xlabel('Predicted values')\n",
    "plt.ylabel('Actual values')\n",
    "print(accuracy_score(train_y, predict_yt))"
   ]
  },
  {
   "cell_type": "code",
   "execution_count": 116,
   "metadata": {},
   "outputs": [
    {
     "name": "stdout",
     "output_type": "stream",
     "text": [
      "(66489, 6)\n",
      "{'max_depth': 20, 'n_estimators': 200}\n",
      "0.738254226072\n",
      "0.977178839289\n"
     ]
    },
    {
     "data": {
      "image/png": "[encoded data removed]",
      "text/plain": [
       "<matplotlib.figure.Figure at 0x7f8ebfcb8cc0>"
      ]
     },
     "metadata": {},
     "output_type": "display_data"
    }
   ],
   "source": [
    "###################\n",
    "# imputing values #\n",
    "###################\n",
    "\n",
    "data_o[data_o_num.columns] = data_o.select_dtypes(exclude = ['object']).fillna(data_o_num.mean())\n",
    "data_o[data_o_cat.columns] = data_o.select_dtypes(include = ['object']).fillna(data_o_cat.mode().iloc[0])\n",
    "\n",
    "data_X = data_o.drop(['target', 'ID'], axis = 1)\n",
    "le = LabelEncoder()\n",
    "for col_i in data_o_cat.columns:\n",
    "    le.fit(data_X[col_i].values)\n",
    "    data_X[col_i] = le.transform(data_X[col_i])\n",
    "\n",
    "data_y = data_o['target']\n",
    "\n",
    "from sklearn.decomposition import PCA\n",
    "\n",
    "pca = PCA(n_components=6)\n",
    "pca.fit(data_X)\n",
    "\n",
    "data_X = pca.transform(data_X)\n",
    "\n",
    "print(data_X.shape)\n",
    "##############################\n",
    "# create test and train sets #\n",
    "##############################\n",
    "train_X, test_X, train_y, test_y = train_test_split(data_X, data_y)\n",
    "\n",
    "\n",
    "\n",
    "\n",
    "#########\n",
    "# model #\n",
    "#########\n",
    "rf_model = RandomForestClassifier(class_weight = 'balanced', n_jobs = -1)\n",
    "grid_params = {\n",
    "        'n_estimators' : [200],\n",
    "        'max_depth' : [10, 20]\n",
    "    \n",
    "}\n",
    "\n",
    "rf_CV = GridSearchCV(rf_model, param_grid = grid_params, cv = StratifiedKFold(n_splits = 10, shuffle= True))\n",
    "\n",
    "rf_CV.fit(train_X,train_y)\n",
    "\n",
    "predict_y = rf_CV.predict(test_X)\n",
    "predict_yt = rf_CV.predict(train_X)\n",
    "print(rf_CV.best_params_)\n",
    "print(accuracy_score(test_y, predict_y))\n",
    "fig3, ax3 = plt.subplots()\n",
    "conf_matrix = confusion_matrix(test_y, predict_y)\n",
    "ax3 = sns.heatmap(conf_matrix, annot = True)\n",
    "plt.xlabel('Predicted values')\n",
    "plt.ylabel('Actual values')\n",
    "print(accuracy_score(train_y, predict_yt))"
   ]
  }
 ],
 "metadata": {
  "kernelspec": {
   "display_name": "Python 3",
   "language": "python",
   "name": "python3"
  },
  "language_info": {
   "codemirror_mode": {
    "name": "ipython",
    "version": 3
   },
   "file_extension": ".py",
   "mimetype": "text/x-python",
   "name": "python",
   "nbconvert_exporter": "python",
   "pygments_lexer": "ipython3",
   "version": "3.6.3"
  }
 },
 "nbformat": 4,
 "nbformat_minor": 2
}
